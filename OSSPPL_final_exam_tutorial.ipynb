{
  "nbformat": 4,
  "nbformat_minor": 0,
  "metadata": {
    "colab": {
      "name": "OSSPPL_final_exam_tutorial.ipynb",
      "provenance": [],
      "collapsed_sections": [
        "qg046nvyhLIb"
      ]
    },
    "kernelspec": {
      "name": "python3",
      "display_name": "Python 3"
    }
  },
  "cells": [
    {
      "cell_type": "markdown",
      "metadata": {
        "id": "qg046nvyhLIb"
      },
      "source": [
        "\r\n",
        "\r\n",
        "# **Test exam for Open Source SW and Python Programming final exam**\r\n",
        "\r\n",
        "\r\n",
        "**IMPORTANT NOTE**\r\n",
        "> Before taking the exam, you MUST share this notebook with cau.hcslab.ta@gmail.com\r\n",
        "\r\n",
        "> After taking the exam, you MUST submit this notebook to our e-class sytem"
      ]
    },
    {
      "cell_type": "markdown",
      "metadata": {
        "id": "3h3is5S6hrjR"
      },
      "source": [
        "# Q1. True / false (Correct: +1 points, wrong: -1 points, missing: 0 points)\r\n",
        "\r\n",
        "For each question, please write your answer by using their corresponding variable (e.g., for Q1.(a), set the variable \"Q1_a\" to True or False)\r\n",
        "\r\n",
        "---\r\n",
        "\r\n",
        "> **(a) Python is an object-oriented programming language**"
      ]
    },
    {
      "cell_type": "code",
      "metadata": {
        "id": "kTM24hxDg0yW"
      },
      "source": [
        "q1_a = # True or False"
      ],
      "execution_count": null,
      "outputs": []
    },
    {
      "cell_type": "markdown",
      "metadata": {
        "id": "cBGoywX1jzaV"
      },
      "source": [
        "# Q2. Please write **a single line of code** that swaps the values of two variables\r\n"
      ]
    },
    {
      "cell_type": "code",
      "metadata": {
        "id": "suWhALWoj11c"
      },
      "source": [
        "q2_x = 100\r\n",
        "q2_y = 10\r\n",
        "\r\n",
        "# Write a single line of code here"
      ],
      "execution_count": null,
      "outputs": []
    },
    {
      "cell_type": "markdown",
      "metadata": {
        "id": "LUw65JlbqlzN"
      },
      "source": [
        "# Q3. Please implement a function \"q3\" which works as follows:\r\n",
        "\r\n",
        "\r\n",
        "*   It takes a tuple x as an input\r\n",
        "*   If x is empty, then returns x without doing anything\r\n",
        "*   Otherwise, returns x after removing the first element in x\r\n",
        "*   The type of returned variable must be \"tuple\"\r\n"
      ]
    },
    {
      "cell_type": "code",
      "metadata": {
        "id": "uZqFaWL3qmQe"
      },
      "source": [
        "def q3(x):\r\n",
        "    '''\r\n",
        "    Write a source code here\r\n",
        "    '''"
      ],
      "execution_count": null,
      "outputs": []
    }
  ]
}